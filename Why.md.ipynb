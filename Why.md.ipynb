{
 "cells": [
  {
   "cell_type": "markdown",
   "metadata": {},
   "source": [
    "# Why I want to learn Machine Learning\n",
    "\n",
    "### By Cassidy Dobratz"
   ]
  },
  {
   "cell_type": "markdown",
   "metadata": {},
   "source": [
    "I would like to learn Machine Learning because it provides tools to solve complex problems across any industry, there is demand for Machine Learning skills in our data driven society, and Machine Learning allows problems to be solved through the scientific method not baised logic. This is a exciting field that is still being developed, by begining a Machine Learning education at this early stage I would be able to grow and learn with the community. I look forward to learning skills to help society find solutions to modern problems.\n",
    "\n",
    "Machine Learning as a dicsipline offers dynamic tools that can be applied to a spectrum of problems by utilizing technology to do the mathmatical heavy lifting required to make sense of large complex data sets. Healthcare industry, banking industry, and measurements from our climate all have collected more data than has been used. Learning to build proper Machine Learning models to use this data will be vauable for our society and personally. \n",
    "\n",
    "Some dangers in learning Machine Learning is if it's done without understanding the scientific method the models will produced biased conclusions. And if ethical considerations are not applied to ML models, Machince learning can be used to produce results that promote special interests and not solutions that benefit society as a whole.   \n",
    "\n",
    "\n",
    "\n"
   ]
  },
  {
   "cell_type": "code",
   "execution_count": null,
   "metadata": {
    "collapsed": true
   },
   "outputs": [],
   "source": []
  }
 ],
 "metadata": {
  "kernelspec": {
   "display_name": "Python 3",
   "language": "python",
   "name": "python3"
  },
  "language_info": {
   "codemirror_mode": {
    "name": "ipython",
    "version": 3
   },
   "file_extension": ".py",
   "mimetype": "text/x-python",
   "name": "python",
   "nbconvert_exporter": "python",
   "pygments_lexer": "ipython3",
   "version": "3.6.3"
  }
 },
 "nbformat": 4,
 "nbformat_minor": 2
}
